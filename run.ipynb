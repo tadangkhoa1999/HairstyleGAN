{
  "nbformat": 4,
  "nbformat_minor": 0,
  "metadata": {
    "colab": {
      "name": "run.ipynb",
      "provenance": [],
      "collapsed_sections": []
    },
    "kernelspec": {
      "name": "python3",
      "display_name": "Python 3"
    },
    "accelerator": "GPU"
  },
  "cells": [
    {
      "cell_type": "code",
      "metadata": {
        "id": "4_ri1ZSkzyH2"
      },
      "source": [
        "from google.colab import drive\n",
        "drive.mount('/content/gdrive')"
      ],
      "execution_count": null,
      "outputs": []
    },
    {
      "cell_type": "code",
      "metadata": {
        "id": "Ctsk2vLx_l4L"
      },
      "source": [
        "%env RAW_IMAGES_PATH=/content/gdrive/MyDrive/HairstyleGAN/raw_images\n",
        "%env ALIGN_IMAGES_PATH=/content/gdrive/MyDrive/HairstyleGAN/aligned_images\n",
        "%env MERGE_HAIR_IMAGES_PATH=/content/gdrive/MyDrive/HairstyleGAN/merge_hair_images\n",
        "%env GENERATED_IMAGES_PATH=/content/gdrive/MyDrive/HairstyleGAN/generated_images\n",
        "%env LANDMARKS_PATH=/content/gdrive/MyDrive/HairstyleGAN/landmarks\n",
        "%env HAIR_PATH=/content/gdrive/MyDrive/HairstyleGAN/hairs\n",
        "%env HAIR_LANDMARKS_PATH=/content/gdrive/MyDrive/HairstyleGAN/hair_landmark\n",
        "\n",
        "%env LATENT_REPRESENTATIONS_PATH=/content/gdrive/MyDrive/HairstyleGAN/latent_representations\n",
        "\n",
        "%env RESNET_MODEL=/content/gdrive/MyDrive/HairstyleGAN/downloads/finetuned_resnet.h5\n",
        "%env STYLEGAN_MODEL=/content/gdrive/MyDrive/HairstyleGAN/downloads/263e666dc20e26dcbfa514733c1d1f81_karras2019stylegan-ffhq-1024x1024.pkl"
      ],
      "execution_count": null,
      "outputs": []
    },
    {
      "cell_type": "code",
      "metadata": {
        "id": "9Xn_cI9ebmco"
      },
      "source": [
        "%tensorflow_version 1.x\n",
        "import os\n",
        "\n",
        "%cd /content/\n",
        "!rm -rf HairstyleGAN\n",
        "!git clone https://github.com/tadangkhoa1999/HairstyleGAN.git\n",
        "%cd HairstyleGAN"
      ],
      "execution_count": null,
      "outputs": []
    },
    {
      "cell_type": "code",
      "metadata": {
        "id": "nMexqXaq-_mi"
      },
      "source": [
        "!bash run.sh --stage 0 --encode_iterations 15"
      ],
      "execution_count": null,
      "outputs": []
    }
  ]
}